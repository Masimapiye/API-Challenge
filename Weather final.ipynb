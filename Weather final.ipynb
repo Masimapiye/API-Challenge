{
 "cells": [
  {
   "cell_type": "markdown",
   "metadata": {},
   "source": [
    "# WeatherPy\n",
    "----\n",
    "\n",
    "#### Note\n",
    "* Instructions have been included for each segment. You do not have to follow them exactly, but they are included to help you think through the steps."
   ]
  },
  {
   "cell_type": "code",
   "execution_count": 24,
   "metadata": {
    "scrolled": true
   },
   "outputs": [],
   "source": [
    "# Dependencies and Setup\n",
    "import matplotlib.pyplot as plt\n",
    "import pandas as pd\n",
    "import numpy as np\n",
    "import requests\n",
    "import time\n",
    "from scipy.stats import linregress\n",
    "import json\n",
    "# Install and use citipy to determine city based on latitude and longitude\n",
    "# pip install citypy\n",
    "from citipy import citipy\n"
   ]
  },
  {
   "cell_type": "code",
   "execution_count": 25,
   "metadata": {},
   "outputs": [],
   "source": [
    "# Import API key\n",
    "from api_keys import weather_api_key\n",
    "\n",
    "# Read the CSV file\n",
    "cities_df = \"output_data/cities.csv\""
   ]
  },
  {
   "cell_type": "code",
   "execution_count": 26,
   "metadata": {},
   "outputs": [],
   "source": [
    "# Define the url used and the units\n",
    "url = \"http://api.openweathermap.org/data/2.5/weather?\"\n",
    "units = \"Imperial\"\n",
    "\n",
    "# The query URL to use\n",
    "query_url = f\"{url}&units={units}&appid={weather_api_key}&q=\""
   ]
  },
  {
   "cell_type": "code",
   "execution_count": 27,
   "metadata": {},
   "outputs": [],
   "source": [
    "# Range of latitudes and longitudes\n",
    "lat_range = (-90, 90)\n",
    "lng_range = (-180, 180)"
   ]
  },
  {
   "cell_type": "markdown",
   "metadata": {},
   "source": [
    "## Generate Cities List"
   ]
  },
  {
   "cell_type": "code",
   "execution_count": 28,
   "metadata": {},
   "outputs": [
    {
     "data": {
      "text/plain": [
       "625"
      ]
     },
     "execution_count": 28,
     "metadata": {},
     "output_type": "execute_result"
    }
   ],
   "source": [
    "# Create variables for lat_lngs and cities\n",
    "lat_lngs = []\n",
    "cities = []\n",
    "\n",
    "# Create a set of random lat and lng combinations\n",
    "lats = np.random.uniform(lat_range[0], lat_range[1], size=1500)\n",
    "lngs = np.random.uniform(long_range[0], long_range[1], size=1500)\n",
    "lat_lngs = zip(lats, lngs)\n",
    "\n",
    "# Identify nearest city for each lat, lng combination\n",
    "for lat_lng in lat_lngs:\n",
    "    city = citipy.nearest_city(lat_lng[0], lat_lng[1]).city_name\n",
    "    \n",
    "   #Add only unique cities\n",
    "    if city not in cities:\n",
    "        cities.append(city)\n",
    "\n",
    "# Print the city count to make sure we have more than 500 countries\n",
    "len(cities)"
   ]
  },
  {
   "cell_type": "markdown",
   "metadata": {},
   "source": [
    "### Perform API Calls\n",
    "* Perform a weather check on each city using a series of successive API calls.\n",
    "* Include a print log of each city as it'sbeing processed (with the city number and city name).\n"
   ]
  },
  {
   "cell_type": "code",
   "execution_count": 29,
   "metadata": {
    "scrolled": true
   },
   "outputs": [
    {
     "name": "stdout",
     "output_type": "stream",
     "text": [
      "Beginning Data Retrieval     \n",
      "-----------------------------\n",
      "Processing Record 1 of Set 1 | cape town\n",
      "Processing Record 2 of Set 1 | huazolotitlan\n",
      "City not found. Skipping...\n",
      "Processing Record 3 of Set 1 | gueret\n",
      "Processing Record 4 of Set 1 | rikitea\n",
      "Processing Record 5 of Set 1 | conceicao do araguaia\n",
      "Processing Record 6 of Set 1 | bluff\n",
      "Processing Record 7 of Set 1 | albany\n",
      "Processing Record 8 of Set 1 | mayo\n",
      "Processing Record 9 of Set 1 | pochutla\n",
      "Processing Record 10 of Set 1 | vostok\n",
      "Processing Record 11 of Set 1 | atuona\n",
      "Processing Record 12 of Set 1 | synya\n",
      "Processing Record 13 of Set 1 | castro\n",
      "Processing Record 14 of Set 1 | vaini\n",
      "Processing Record 15 of Set 1 | bulembu\n",
      "Processing Record 16 of Set 1 | ushuaia\n",
      "Processing Record 17 of Set 1 | mataura\n",
      "Processing Record 18 of Set 1 | port blair\n",
      "Processing Record 19 of Set 1 | avarua\n",
      "Processing Record 20 of Set 1 | saint george\n",
      "Processing Record 21 of Set 1 | lazaro cardenas\n",
      "Processing Record 22 of Set 1 | taolanaro\n",
      "City not found. Skipping...\n",
      "Processing Record 23 of Set 1 | isangel\n",
      "Processing Record 24 of Set 1 | thompson\n",
      "Processing Record 25 of Set 1 | kapuskasing\n",
      "Processing Record 26 of Set 1 | busselton\n",
      "Processing Record 27 of Set 1 | ambam\n",
      "Processing Record 28 of Set 1 | illoqqortoormiut\n",
      "City not found. Skipping...\n",
      "Processing Record 29 of Set 1 | machacamarca\n",
      "Processing Record 30 of Set 1 | hermanus\n",
      "Processing Record 31 of Set 1 | maridi\n",
      "Processing Record 32 of Set 1 | barrow\n",
      "Processing Record 33 of Set 1 | lebu\n",
      "Processing Record 34 of Set 1 | kodiak\n",
      "Processing Record 35 of Set 1 | slavyanka\n",
      "Processing Record 36 of Set 1 | constitucion\n",
      "Processing Record 37 of Set 1 | saint-philippe\n",
      "Processing Record 38 of Set 1 | nikolskoye\n",
      "Processing Record 39 of Set 1 | punta arenas\n",
      "Processing Record 40 of Set 1 | tasiilaq\n",
      "Processing Record 41 of Set 1 | codrington\n",
      "Processing Record 42 of Set 1 | cidreira\n",
      "Processing Record 43 of Set 1 | dikson\n",
      "Processing Record 44 of Set 1 | kavaratti\n",
      "Processing Record 45 of Set 1 | qaanaaq\n",
      "Processing Record 46 of Set 1 | kahului\n",
      "Processing Record 47 of Set 1 | kapaa\n",
      "Processing Record 48 of Set 1 | kukes\n",
      "Processing Record 49 of Set 1 | nelson bay\n",
      "Processing Record 50 of Set 1 | hilo\n",
      "Processing Record 51 of Set 2 | ostrovnoy\n",
      "Processing Record 52 of Set 2 | kaitangata\n",
      "Processing Record 53 of Set 2 | chokurdakh\n",
      "Processing Record 54 of Set 2 | clyde river\n",
      "Processing Record 55 of Set 2 | chumikan\n",
      "Processing Record 56 of Set 2 | port alfred\n",
      "Processing Record 57 of Set 2 | smithers\n",
      "Processing Record 58 of Set 2 | debre tabor\n",
      "Processing Record 59 of Set 2 | itupiranga\n",
      "Processing Record 60 of Set 2 | srednekolymsk\n",
      "Processing Record 61 of Set 2 | san patricio\n",
      "Processing Record 62 of Set 2 | bredasdorp\n",
      "Processing Record 63 of Set 2 | bambous virieux\n",
      "Processing Record 64 of Set 2 | umzimvubu\n",
      "City not found. Skipping...\n",
      "Processing Record 65 of Set 2 | sistranda\n",
      "Processing Record 66 of Set 2 | a\n",
      "City not found. Skipping...\n",
      "Processing Record 67 of Set 2 | inderborskiy\n",
      "City not found. Skipping...\n",
      "Processing Record 68 of Set 2 | tumannyy\n",
      "City not found. Skipping...\n",
      "Processing Record 69 of Set 2 | egvekinot\n",
      "Processing Record 70 of Set 2 | lolua\n",
      "City not found. Skipping...\n",
      "Processing Record 71 of Set 2 | le marin\n",
      "Processing Record 72 of Set 2 | kerema\n",
      "Processing Record 73 of Set 2 | dunedin\n",
      "Processing Record 74 of Set 2 | verkhnyaya inta\n",
      "Processing Record 75 of Set 2 | jamestown\n",
      "Processing Record 76 of Set 2 | padang\n",
      "Processing Record 77 of Set 2 | warri\n",
      "Processing Record 78 of Set 2 | attawapiskat\n",
      "City not found. Skipping...\n",
      "Processing Record 79 of Set 2 | heihe\n",
      "Processing Record 80 of Set 2 | ribeira grande\n",
      "Processing Record 81 of Set 2 | nakonde\n",
      "Processing Record 82 of Set 2 | makakilo city\n",
      "Processing Record 83 of Set 2 | marzuq\n",
      "Processing Record 84 of Set 2 | muroto\n",
      "Processing Record 85 of Set 2 | amot\n",
      "Processing Record 86 of Set 2 | cayenne\n",
      "Processing Record 87 of Set 2 | tuktoyaktuk\n",
      "Processing Record 88 of Set 2 | kostroma\n",
      "Processing Record 89 of Set 2 | ponta do sol\n",
      "Processing Record 90 of Set 2 | chuy\n",
      "Processing Record 91 of Set 2 | hasaki\n",
      "Processing Record 92 of Set 2 | laguna\n",
      "Processing Record 93 of Set 2 | worland\n",
      "Processing Record 94 of Set 2 | samfya\n",
      "Processing Record 95 of Set 2 | esso\n",
      "Processing Record 96 of Set 2 | puerto escondido\n",
      "Processing Record 97 of Set 2 | mitsamiouli\n",
      "Processing Record 98 of Set 2 | kloulklubed\n",
      "Processing Record 99 of Set 2 | san andres\n",
      "Processing Record 100 of Set 2 | tuburan\n",
      "Processing Record 101 of Set 3 | norman wells\n",
      "Processing Record 102 of Set 3 | caravelas\n",
      "Processing Record 103 of Set 3 | avera\n",
      "Processing Record 104 of Set 3 | lompoc\n",
      "Processing Record 105 of Set 3 | raudeberg\n",
      "Processing Record 106 of Set 3 | belushya guba\n",
      "City not found. Skipping...\n",
      "Processing Record 107 of Set 3 | parabel\n",
      "Processing Record 108 of Set 3 | pangnirtung\n",
      "Processing Record 109 of Set 3 | hobart\n",
      "Processing Record 110 of Set 3 | liwale\n",
      "Processing Record 111 of Set 3 | la ronge\n",
      "Processing Record 112 of Set 3 | aswan\n",
      "Processing Record 113 of Set 3 | tabou\n",
      "Processing Record 114 of Set 3 | atar\n",
      "Processing Record 115 of Set 3 | puerto ayora\n",
      "Processing Record 116 of Set 3 | mabasa\n",
      "Processing Record 117 of Set 3 | husavik\n",
      "Processing Record 118 of Set 3 | morros\n",
      "Processing Record 119 of Set 3 | high prairie\n",
      "Processing Record 120 of Set 3 | severo-kurilsk\n",
      "Processing Record 121 of Set 3 | olutanga\n",
      "Processing Record 122 of Set 3 | damaturu\n",
      "Processing Record 123 of Set 3 | geraldton\n",
      "Processing Record 124 of Set 3 | pimentel\n",
      "Processing Record 125 of Set 3 | victoria\n",
      "Processing Record 126 of Set 3 | louisbourg\n",
      "City not found. Skipping...\n",
      "Processing Record 127 of Set 3 | sataua\n",
      "City not found. Skipping...\n",
      "Processing Record 128 of Set 3 | uk\n",
      "City not found. Skipping...\n",
      "Processing Record 129 of Set 3 | asilah\n",
      "Processing Record 130 of Set 3 | butaritari\n",
      "Processing Record 131 of Set 3 | new norfolk\n",
      "Processing Record 132 of Set 3 | airai\n",
      "Processing Record 133 of Set 3 | katsuura\n",
      "Processing Record 134 of Set 3 | ahipara\n",
      "Processing Record 135 of Set 3 | klaksvik\n",
      "Processing Record 136 of Set 3 | grindavik\n",
      "Processing Record 137 of Set 3 | fortuna\n",
      "Processing Record 138 of Set 3 | esperance\n",
      "Processing Record 139 of Set 3 | ulladulla\n",
      "Processing Record 140 of Set 3 | sambava\n",
      "Processing Record 141 of Set 3 | flinders\n",
      "Processing Record 142 of Set 3 | bethel\n",
      "Processing Record 143 of Set 3 | provideniya\n",
      "Processing Record 144 of Set 3 | itarema\n",
      "Processing Record 145 of Set 3 | seoul\n",
      "Processing Record 146 of Set 3 | mar del plata\n",
      "Processing Record 147 of Set 3 | namatanai\n",
      "Processing Record 148 of Set 3 | upernavik\n",
      "Processing Record 149 of Set 3 | nemuro\n",
      "Processing Record 150 of Set 3 | gamba\n",
      "Processing Record 151 of Set 4 | gurskoye\n",
      "City not found. Skipping...\n",
      "Processing Record 152 of Set 4 | namibe\n",
      "Processing Record 153 of Set 4 | juneau\n",
      "Processing Record 154 of Set 4 | bossangoa\n",
      "Processing Record 155 of Set 4 | yellowknife\n",
      "Processing Record 156 of Set 4 | korla\n",
      "Processing Record 157 of Set 4 | ames\n",
      "Processing Record 158 of Set 4 | bara\n",
      "Processing Record 159 of Set 4 | opuwo\n",
      "Processing Record 160 of Set 4 | ancud\n",
      "Processing Record 161 of Set 4 | nizhneyansk\n",
      "City not found. Skipping...\n",
      "Processing Record 162 of Set 4 | sisimiut\n",
      "Processing Record 163 of Set 4 | geilo\n",
      "Processing Record 164 of Set 4 | aklavik\n",
      "Processing Record 165 of Set 4 | georgetown\n",
      "Processing Record 166 of Set 4 | cazaje\n",
      "City not found. Skipping...\n",
      "Processing Record 167 of Set 4 | narasannapeta\n",
      "Processing Record 168 of Set 4 | touros\n",
      "Processing Record 169 of Set 4 | lagoa\n",
      "Processing Record 170 of Set 4 | jalu\n",
      "Processing Record 171 of Set 4 | barentsburg\n",
      "City not found. Skipping...\n",
      "Processing Record 172 of Set 4 | mildura\n",
      "Processing Record 173 of Set 4 | vanimo\n",
      "Processing Record 174 of Set 4 | atambua\n",
      "Processing Record 175 of Set 4 | east london\n",
      "Processing Record 176 of Set 4 | karamay\n",
      "City not found. Skipping...\n",
      "Processing Record 177 of Set 4 | kavieng\n",
      "Processing Record 178 of Set 4 | tiksi\n",
      "Processing Record 179 of Set 4 | ust-kamchatsk\n",
      "City not found. Skipping...\n",
      "Processing Record 180 of Set 4 | lenoir city\n",
      "Processing Record 181 of Set 4 | yulara\n",
      "Processing Record 182 of Set 4 | faanui\n",
      "Processing Record 183 of Set 4 | shuangyang\n"
     ]
    },
    {
     "name": "stdout",
     "output_type": "stream",
     "text": [
      "Processing Record 184 of Set 4 | berlevag\n",
      "Processing Record 185 of Set 4 | vilyuysk\n",
      "Processing Record 186 of Set 4 | hithadhoo\n",
      "Processing Record 187 of Set 4 | toftir\n",
      "City not found. Skipping...\n",
      "Processing Record 188 of Set 4 | ventspils\n",
      "Processing Record 189 of Set 4 | artigas\n",
      "Processing Record 190 of Set 4 | iquique\n",
      "Processing Record 191 of Set 4 | saint-denis\n",
      "Processing Record 192 of Set 4 | amuntai\n",
      "Processing Record 193 of Set 4 | dongfeng\n",
      "Processing Record 194 of Set 4 | quatre cocos\n",
      "Processing Record 195 of Set 4 | faya\n",
      "Processing Record 196 of Set 4 | samusu\n",
      "City not found. Skipping...\n",
      "Processing Record 197 of Set 4 | shelburne\n",
      "Processing Record 198 of Set 4 | santiago del estero\n",
      "Processing Record 199 of Set 4 | camacha\n",
      "Processing Record 200 of Set 4 | bengkulu\n",
      "Processing Record 201 of Set 5 | anuradhapura\n",
      "Processing Record 202 of Set 5 | tokonou\n",
      "Processing Record 203 of Set 5 | cabo san lucas\n",
      "Processing Record 204 of Set 5 | ciudad bolivar\n",
      "Processing Record 205 of Set 5 | marcona\n",
      "City not found. Skipping...\n",
      "Processing Record 206 of Set 5 | mahebourg\n",
      "Processing Record 207 of Set 5 | teluknaga\n",
      "Processing Record 208 of Set 5 | satitoa\n",
      "City not found. Skipping...\n",
      "Processing Record 209 of Set 5 | nouadhibou\n",
      "Processing Record 210 of Set 5 | ericeira\n",
      "Processing Record 211 of Set 5 | sidi ali\n",
      "Processing Record 212 of Set 5 | saleaula\n",
      "City not found. Skipping...\n",
      "Processing Record 213 of Set 5 | umm lajj\n",
      "Processing Record 214 of Set 5 | saskylakh\n",
      "Processing Record 215 of Set 5 | dingli\n",
      "Processing Record 216 of Set 5 | samalaeulu\n",
      "City not found. Skipping...\n",
      "Processing Record 217 of Set 5 | qasigiannguit\n",
      "Processing Record 218 of Set 5 | chagda\n",
      "City not found. Skipping...\n",
      "Processing Record 219 of Set 5 | broken hill\n",
      "Processing Record 220 of Set 5 | sorvag\n",
      "City not found. Skipping...\n",
      "Processing Record 221 of Set 5 | monroe\n",
      "Processing Record 222 of Set 5 | sile\n",
      "Processing Record 223 of Set 5 | beyneu\n",
      "Processing Record 224 of Set 5 | longyearbyen\n",
      "Processing Record 225 of Set 5 | erenhot\n",
      "Processing Record 226 of Set 5 | mahadday weyne\n",
      "City not found. Skipping...\n",
      "Processing Record 227 of Set 5 | lufilufi\n",
      "Processing Record 228 of Set 5 | tilichiki\n",
      "Processing Record 229 of Set 5 | vanavara\n",
      "Processing Record 230 of Set 5 | walvis bay\n",
      "Processing Record 231 of Set 5 | bentiu\n",
      "Processing Record 232 of Set 5 | dingle\n",
      "Processing Record 233 of Set 5 | taksimo\n",
      "Processing Record 234 of Set 5 | bilma\n",
      "Processing Record 235 of Set 5 | saldanha\n",
      "Processing Record 236 of Set 5 | humberto de campos\n",
      "Processing Record 237 of Set 5 | uige\n",
      "Processing Record 238 of Set 5 | anicuns\n",
      "Processing Record 239 of Set 5 | pakxan\n",
      "Processing Record 240 of Set 5 | iqaluit\n",
      "Processing Record 241 of Set 5 | lasa\n",
      "Processing Record 242 of Set 5 | gulshat\n",
      "City not found. Skipping...\n",
      "Processing Record 243 of Set 5 | pontian kecil\n",
      "Processing Record 244 of Set 5 | uvira\n",
      "Processing Record 245 of Set 5 | san vicente\n",
      "Processing Record 246 of Set 5 | karachi\n",
      "Processing Record 247 of Set 5 | fuzhou\n",
      "Processing Record 248 of Set 5 | hidalgo\n",
      "Processing Record 249 of Set 5 | torbay\n",
      "Processing Record 250 of Set 5 | henties bay\n",
      "Processing Record 251 of Set 6 | kurilsk\n",
      "Processing Record 252 of Set 6 | tirschenreuth\n",
      "Processing Record 253 of Set 6 | bor\n",
      "Processing Record 254 of Set 6 | vozhd proletariata\n",
      "City not found. Skipping...\n",
      "Processing Record 255 of Set 6 | burnie\n",
      "Processing Record 256 of Set 6 | la trinidad\n",
      "Processing Record 257 of Set 6 | huilong\n",
      "Processing Record 258 of Set 6 | tsihombe\n",
      "City not found. Skipping...\n",
      "Processing Record 259 of Set 6 | mys shmidta\n",
      "City not found. Skipping...\n",
      "Processing Record 260 of Set 6 | sobolevo\n",
      "Processing Record 261 of Set 6 | kazalinsk\n",
      "City not found. Skipping...\n",
      "Processing Record 262 of Set 6 | brae\n",
      "Processing Record 263 of Set 6 | kieta\n",
      "Processing Record 264 of Set 6 | high level\n",
      "Processing Record 265 of Set 6 | tomatlan\n",
      "Processing Record 266 of Set 6 | vasterhaninge\n",
      "Processing Record 267 of Set 6 | turukhansk\n",
      "Processing Record 268 of Set 6 | ukiah\n",
      "Processing Record 269 of Set 6 | pauini\n",
      "Processing Record 270 of Set 6 | kuopio\n",
      "Processing Record 271 of Set 6 | halalo\n",
      "City not found. Skipping...\n",
      "Processing Record 272 of Set 6 | karaul\n",
      "City not found. Skipping...\n",
      "Processing Record 273 of Set 6 | springbok\n",
      "Processing Record 274 of Set 6 | vangaindrano\n",
      "Processing Record 275 of Set 6 | waipawa\n",
      "Processing Record 276 of Set 6 | warmbad\n",
      "Processing Record 277 of Set 6 | baoqing\n",
      "Processing Record 278 of Set 6 | verkhoyansk\n",
      "Processing Record 279 of Set 6 | sovetskiy\n",
      "Processing Record 280 of Set 6 | khatanga\n",
      "Processing Record 281 of Set 6 | luderitz\n",
      "Processing Record 282 of Set 6 | sangin\n",
      "Processing Record 283 of Set 6 | sulangan\n",
      "Processing Record 284 of Set 6 | aasiaat\n",
      "Processing Record 285 of Set 6 | the valley\n",
      "Processing Record 286 of Set 6 | sorland\n",
      "Processing Record 287 of Set 6 | narsaq\n",
      "Processing Record 288 of Set 6 | palauig\n",
      "Processing Record 289 of Set 6 | sao filipe\n",
      "Processing Record 290 of Set 6 | hobyo\n",
      "Processing Record 291 of Set 6 | zhaozhou\n",
      "Processing Record 292 of Set 6 | san-pedro\n",
      "Processing Record 293 of Set 6 | miharu\n",
      "Processing Record 294 of Set 6 | morgan city\n",
      "Processing Record 295 of Set 6 | bud\n",
      "Processing Record 296 of Set 6 | benalla\n",
      "Processing Record 297 of Set 6 | duz\n",
      "City not found. Skipping...\n",
      "Processing Record 298 of Set 6 | udobnaya\n",
      "Processing Record 299 of Set 6 | vinh\n",
      "Processing Record 300 of Set 6 | abha\n",
      "Processing Record 301 of Set 7 | senneterre\n",
      "Processing Record 302 of Set 7 | havoysund\n",
      "Processing Record 303 of Set 7 | lubao\n",
      "Processing Record 304 of Set 7 | tingo maria\n",
      "Processing Record 305 of Set 7 | harrisonville\n",
      "Processing Record 306 of Set 7 | sitka\n",
      "Processing Record 307 of Set 7 | hamilton\n",
      "Processing Record 308 of Set 7 | north myrtle beach\n",
      "Processing Record 309 of Set 7 | ipixuna\n",
      "Processing Record 310 of Set 7 | tiznit\n",
      "Processing Record 311 of Set 7 | baie-comeau\n",
      "Processing Record 312 of Set 7 | kaeo\n",
      "Processing Record 313 of Set 7 | camana\n",
      "Processing Record 314 of Set 7 | deputatskiy\n",
      "Processing Record 315 of Set 7 | solnechnyy\n",
      "Processing Record 316 of Set 7 | ilulissat\n",
      "Processing Record 317 of Set 7 | sechura\n",
      "Processing Record 318 of Set 7 | kayes\n",
      "Processing Record 319 of Set 7 | le moule\n",
      "Processing Record 320 of Set 7 | baracoa\n",
      "Processing Record 321 of Set 7 | acuna\n",
      "City not found. Skipping...\n",
      "Processing Record 322 of Set 7 | yerbogachen\n",
      "Processing Record 323 of Set 7 | amderma\n",
      "City not found. Skipping...\n",
      "Processing Record 324 of Set 7 | sangar\n",
      "Processing Record 325 of Set 7 | san cristobal\n",
      "Processing Record 326 of Set 7 | hihifo\n",
      "City not found. Skipping...\n",
      "Processing Record 327 of Set 7 | mount gambier\n",
      "Processing Record 328 of Set 7 | otofuke\n",
      "Processing Record 329 of Set 7 | benghazi\n",
      "Processing Record 330 of Set 7 | telimele\n",
      "Processing Record 331 of Set 7 | hammerfest\n",
      "Processing Record 332 of Set 7 | souillac\n",
      "Processing Record 333 of Set 7 | yuli\n",
      "Processing Record 334 of Set 7 | carbondale\n",
      "Processing Record 335 of Set 7 | sola\n",
      "Processing Record 336 of Set 7 | mattersburg\n",
      "Processing Record 337 of Set 7 | merrill\n",
      "Processing Record 338 of Set 7 | fairbanks\n",
      "Processing Record 339 of Set 7 | freeport\n",
      "Processing Record 340 of Set 7 | mayumba\n",
      "Processing Record 341 of Set 7 | gambissara\n",
      "Processing Record 342 of Set 7 | lagos\n",
      "Processing Record 343 of Set 7 | xai-xai\n",
      "Processing Record 344 of Set 7 | fare\n",
      "Processing Record 345 of Set 7 | wanaka\n",
      "Processing Record 346 of Set 7 | neyyattinkara\n",
      "Processing Record 347 of Set 7 | denpasar\n",
      "Processing Record 348 of Set 7 | mikkeli\n",
      "Processing Record 349 of Set 7 | naushki\n",
      "Processing Record 350 of Set 7 | bargal\n",
      "City not found. Skipping...\n",
      "Processing Record 351 of Set 8 | topolobampo\n",
      "Processing Record 352 of Set 8 | talnakh\n",
      "Processing Record 353 of Set 8 | port augusta\n",
      "Processing Record 354 of Set 8 | ossora\n",
      "Processing Record 355 of Set 8 | carnarvon\n",
      "Processing Record 356 of Set 8 | teberda\n",
      "Processing Record 357 of Set 8 | san jose de guanipa\n",
      "Processing Record 358 of Set 8 | grand river south east\n",
      "City not found. Skipping...\n",
      "Processing Record 359 of Set 8 | derzhavinsk\n",
      "Processing Record 360 of Set 8 | burns lake\n",
      "Processing Record 361 of Set 8 | vaitupu\n",
      "City not found. Skipping...\n",
      "Processing Record 362 of Set 8 | arraial do cabo\n"
     ]
    },
    {
     "name": "stdout",
     "output_type": "stream",
     "text": [
      "Processing Record 363 of Set 8 | plettenberg bay\n",
      "Processing Record 364 of Set 8 | marovoay\n",
      "Processing Record 365 of Set 8 | saint-pierre\n",
      "Processing Record 366 of Set 8 | kutum\n",
      "Processing Record 367 of Set 8 | lorengau\n",
      "Processing Record 368 of Set 8 | mount isa\n",
      "Processing Record 369 of Set 8 | comodoro rivadavia\n",
      "Processing Record 370 of Set 8 | ascension\n",
      "Processing Record 371 of Set 8 | bairiki\n",
      "Processing Record 372 of Set 8 | rio gallegos\n",
      "Processing Record 373 of Set 8 | lebork\n",
      "Processing Record 374 of Set 8 | emba\n",
      "Processing Record 375 of Set 8 | tual\n",
      "Processing Record 376 of Set 8 | saint-amand-les-eaux\n",
      "Processing Record 377 of Set 8 | clinton\n",
      "Processing Record 378 of Set 8 | byron bay\n",
      "Processing Record 379 of Set 8 | preston\n",
      "Processing Record 380 of Set 8 | houma\n",
      "Processing Record 381 of Set 8 | rawson\n",
      "Processing Record 382 of Set 8 | camaqua\n",
      "Processing Record 383 of Set 8 | san quintin\n",
      "Processing Record 384 of Set 8 | leningradskiy\n",
      "Processing Record 385 of Set 8 | mumbwa\n",
      "Processing Record 386 of Set 8 | sioux lookout\n",
      "Processing Record 387 of Set 8 | barra do garcas\n",
      "Processing Record 388 of Set 8 | rungata\n",
      "City not found. Skipping...\n",
      "Processing Record 389 of Set 8 | takestan\n",
      "Processing Record 390 of Set 8 | vengerovo\n",
      "Processing Record 391 of Set 8 | paamiut\n",
      "Processing Record 392 of Set 8 | prince rupert\n",
      "Processing Record 393 of Set 8 | longlac\n",
      "City not found. Skipping...\n",
      "Processing Record 394 of Set 8 | mahajanga\n",
      "Processing Record 395 of Set 8 | rio grande city\n",
      "Processing Record 396 of Set 8 | polunochnoye\n",
      "Processing Record 397 of Set 8 | tyssedal\n",
      "Processing Record 398 of Set 8 | nome\n",
      "Processing Record 399 of Set 8 | port elizabeth\n",
      "Processing Record 400 of Set 8 | okha\n",
      "Processing Record 401 of Set 9 | vila velha\n",
      "Processing Record 402 of Set 9 | skiros\n",
      "City not found. Skipping...\n",
      "Processing Record 403 of Set 9 | yining\n",
      "Processing Record 404 of Set 9 | golden\n",
      "Processing Record 405 of Set 9 | cap malheureux\n",
      "Processing Record 406 of Set 9 | sao borja\n",
      "Processing Record 407 of Set 9 | labuhan\n",
      "Processing Record 408 of Set 9 | calgary\n",
      "Processing Record 409 of Set 9 | alice springs\n",
      "Processing Record 410 of Set 9 | yoshida\n",
      "Processing Record 411 of Set 9 | tarsus\n",
      "Processing Record 412 of Set 9 | boca do acre\n",
      "Processing Record 413 of Set 9 | yumen\n",
      "Processing Record 414 of Set 9 | kimi\n",
      "City not found. Skipping...\n",
      "Processing Record 415 of Set 9 | oranjemund\n",
      "Processing Record 416 of Set 9 | artesia\n",
      "Processing Record 417 of Set 9 | tiarei\n",
      "Processing Record 418 of Set 9 | meadow lake\n",
      "Processing Record 419 of Set 9 | barzas\n",
      "Processing Record 420 of Set 9 | mezen\n",
      "Processing Record 421 of Set 9 | vardo\n",
      "Processing Record 422 of Set 9 | waingapu\n",
      "Processing Record 423 of Set 9 | nola\n",
      "Processing Record 424 of Set 9 | komsomolskiy\n",
      "Processing Record 425 of Set 9 | westport\n",
      "Processing Record 426 of Set 9 | sentyabrskiy\n",
      "City not found. Skipping...\n",
      "Processing Record 427 of Set 9 | sajanan\n",
      "Processing Record 428 of Set 9 | coquimbo\n",
      "Processing Record 429 of Set 9 | eureka\n",
      "Processing Record 430 of Set 9 | gamboma\n",
      "Processing Record 431 of Set 9 | verkhnevilyuysk\n",
      "Processing Record 432 of Set 9 | cabedelo\n",
      "Processing Record 433 of Set 9 | taicheng\n",
      "Processing Record 434 of Set 9 | guerrero negro\n",
      "Processing Record 435 of Set 9 | salinas\n",
      "Processing Record 436 of Set 9 | provost\n",
      "Processing Record 437 of Set 9 | inta\n",
      "Processing Record 438 of Set 9 | tessalit\n",
      "Processing Record 439 of Set 9 | mwense\n",
      "Processing Record 440 of Set 9 | bandarbeyla\n",
      "Processing Record 441 of Set 9 | pafos\n",
      "Processing Record 442 of Set 9 | pisco\n",
      "Processing Record 443 of Set 9 | china\n",
      "Processing Record 444 of Set 9 | phulabani\n",
      "Processing Record 445 of Set 9 | hay river\n",
      "Processing Record 446 of Set 9 | fort nelson\n",
      "Processing Record 447 of Set 9 | albina\n",
      "Processing Record 448 of Set 9 | japura\n",
      "Processing Record 449 of Set 9 | shimoda\n",
      "Processing Record 450 of Set 9 | koshurnikovo\n",
      "Processing Record 451 of Set 10 | kisangani\n",
      "Processing Record 452 of Set 10 | malatya\n",
      "Processing Record 453 of Set 10 | kortkeros\n",
      "Processing Record 454 of Set 10 | alta floresta\n",
      "Processing Record 455 of Set 10 | half moon bay\n",
      "Processing Record 456 of Set 10 | naze\n",
      "Processing Record 457 of Set 10 | shalinskoye\n",
      "Processing Record 458 of Set 10 | broome\n",
      "Processing Record 459 of Set 10 | merauke\n",
      "Processing Record 460 of Set 10 | glenwood springs\n",
      "Processing Record 461 of Set 10 | fatehgarh churian\n",
      "Processing Record 462 of Set 10 | wazzan\n",
      "City not found. Skipping...\n",
      "Processing Record 463 of Set 10 | ahuimanu\n",
      "Processing Record 464 of Set 10 | itoman\n",
      "Processing Record 465 of Set 10 | roma\n",
      "Processing Record 466 of Set 10 | sinnamary\n",
      "Processing Record 467 of Set 10 | sidrolandia\n",
      "Processing Record 468 of Set 10 | amancio\n",
      "City not found. Skipping...\n",
      "Processing Record 469 of Set 10 | talcahuano\n",
      "Processing Record 470 of Set 10 | tumut\n",
      "Processing Record 471 of Set 10 | albania\n",
      "Processing Record 472 of Set 10 | batagay-alyta\n",
      "Processing Record 473 of Set 10 | tlyarota\n",
      "City not found. Skipping...\n",
      "Processing Record 474 of Set 10 | chernenko\n",
      "Processing Record 475 of Set 10 | chara\n",
      "Processing Record 476 of Set 10 | trinidad\n",
      "Processing Record 477 of Set 10 | roanoke\n",
      "Processing Record 478 of Set 10 | viedma\n",
      "Processing Record 479 of Set 10 | bjerkvik\n",
      "Processing Record 480 of Set 10 | linhai\n",
      "Processing Record 481 of Set 10 | banjar\n",
      "Processing Record 482 of Set 10 | pontes e lacerda\n",
      "Processing Record 483 of Set 10 | elko\n",
      "Processing Record 484 of Set 10 | imbituba\n",
      "Processing Record 485 of Set 10 | ponferrada\n",
      "Processing Record 486 of Set 10 | kindia\n",
      "Processing Record 487 of Set 10 | spencer\n",
      "Processing Record 488 of Set 10 | port lincoln\n",
      "Processing Record 489 of Set 10 | marsabit\n",
      "Processing Record 490 of Set 10 | george town\n",
      "Processing Record 491 of Set 10 | fort saint john\n",
      "City not found. Skipping...\n",
      "Processing Record 492 of Set 10 | pevek\n",
      "Processing Record 493 of Set 10 | pilar\n",
      "Processing Record 494 of Set 10 | adamas\n",
      "Processing Record 495 of Set 10 | castlemaine\n",
      "Processing Record 496 of Set 10 | nanortalik\n",
      "Processing Record 497 of Set 10 | peterhead\n",
      "Processing Record 498 of Set 10 | dzhusaly\n",
      "City not found. Skipping...\n",
      "Processing Record 499 of Set 10 | port hedland\n",
      "Processing Record 500 of Set 10 | balimo\n",
      "City not found. Skipping...\n",
      "Processing Record 501 of Set 11 | ust-kuyga\n",
      "Processing Record 502 of Set 11 | sur\n",
      "Processing Record 503 of Set 11 | coihaique\n",
      "Processing Record 504 of Set 11 | melk\n",
      "Processing Record 505 of Set 11 | kapit\n",
      "Processing Record 506 of Set 11 | ambikapur\n",
      "Processing Record 507 of Set 11 | bathsheba\n",
      "Processing Record 508 of Set 11 | gigmoto\n",
      "Processing Record 509 of Set 11 | buala\n",
      "Processing Record 510 of Set 11 | salta\n",
      "Processing Record 511 of Set 11 | guicheng\n",
      "City not found. Skipping...\n",
      "Processing Record 512 of Set 11 | adrar\n",
      "Processing Record 513 of Set 11 | mananara\n",
      "Processing Record 514 of Set 11 | morant bay\n",
      "Processing Record 515 of Set 11 | santa isabel do rio negro\n",
      "Processing Record 516 of Set 11 | calabozo\n",
      "Processing Record 517 of Set 11 | pacific grove\n",
      "Processing Record 518 of Set 11 | funtua\n",
      "Processing Record 519 of Set 11 | kruisfontein\n",
      "Processing Record 520 of Set 11 | sivas\n",
      "Processing Record 521 of Set 11 | tokur\n",
      "Processing Record 522 of Set 11 | manta\n",
      "Processing Record 523 of Set 11 | oksfjord\n",
      "Processing Record 524 of Set 11 | lubango\n",
      "Processing Record 525 of Set 11 | plouzane\n",
      "Processing Record 526 of Set 11 | frederico westphalen\n",
      "Processing Record 527 of Set 11 | stawell\n",
      "Processing Record 528 of Set 11 | north bend\n",
      "Processing Record 529 of Set 11 | champerico\n",
      "Processing Record 530 of Set 11 | noumea\n",
      "Processing Record 531 of Set 11 | huarmey\n",
      "Processing Record 532 of Set 11 | puqi\n",
      "Processing Record 533 of Set 11 | inhambane\n",
      "Processing Record 534 of Set 11 | magadan\n",
      "Processing Record 535 of Set 11 | belaya gora\n",
      "Processing Record 536 of Set 11 | vao\n",
      "Processing Record 537 of Set 11 | quimper\n",
      "Processing Record 538 of Set 11 | marrakesh\n",
      "Processing Record 539 of Set 11 | zhaotong\n",
      "Processing Record 540 of Set 11 | uruacu\n",
      "Processing Record 541 of Set 11 | copiapo\n",
      "Processing Record 542 of Set 11 | moron\n",
      "Processing Record 543 of Set 11 | nyurba\n",
      "Processing Record 544 of Set 11 | tutoia\n",
      "Processing Record 545 of Set 11 | nuuk\n",
      "Processing Record 546 of Set 11 | qaqortoq\n"
     ]
    },
    {
     "name": "stdout",
     "output_type": "stream",
     "text": [
      "Processing Record 547 of Set 11 | ojinaga\n",
      "Processing Record 548 of Set 11 | hambantota\n",
      "Processing Record 549 of Set 11 | alyangula\n",
      "Processing Record 550 of Set 11 | tura\n",
      "Processing Record 551 of Set 12 | kununurra\n",
      "Processing Record 552 of Set 12 | henderson\n",
      "Processing Record 553 of Set 12 | bo rai\n",
      "Processing Record 554 of Set 12 | tallahassee\n",
      "Processing Record 555 of Set 12 | guanica\n",
      "Processing Record 556 of Set 12 | roscommon\n",
      "Processing Record 557 of Set 12 | ortona\n",
      "Processing Record 558 of Set 12 | neepawa\n",
      "Processing Record 559 of Set 12 | boda\n",
      "Processing Record 560 of Set 12 | duluth\n",
      "Processing Record 561 of Set 12 | swellendam\n",
      "Processing Record 562 of Set 12 | garmsar\n",
      "Processing Record 563 of Set 12 | bondo\n",
      "Processing Record 564 of Set 12 | roald\n",
      "Processing Record 565 of Set 12 | strezhevoy\n",
      "Processing Record 566 of Set 12 | alofi\n",
      "Processing Record 567 of Set 12 | hovd\n",
      "Processing Record 568 of Set 12 | antagan\n",
      "City not found. Skipping...\n",
      "Processing Record 569 of Set 12 | shu\n",
      "Processing Record 570 of Set 12 | anuppur\n",
      "Processing Record 571 of Set 12 | cockburn town\n",
      "Processing Record 572 of Set 12 | hanzhong\n",
      "Processing Record 573 of Set 12 | puri\n",
      "Processing Record 574 of Set 12 | ikwiriri\n",
      "Processing Record 575 of Set 12 | iskateley\n",
      "Processing Record 576 of Set 12 | vigrestad\n",
      "Processing Record 577 of Set 12 | jiaozuo\n",
      "Processing Record 578 of Set 12 | vysokogornyy\n",
      "Processing Record 579 of Set 12 | spartanburg\n",
      "Processing Record 580 of Set 12 | enshi\n",
      "Processing Record 581 of Set 12 | kinablangan\n",
      "Processing Record 582 of Set 12 | quesnel\n",
      "Processing Record 583 of Set 12 | jablanica\n",
      "Processing Record 584 of Set 12 | abu dhabi\n",
      "Processing Record 585 of Set 12 | cherskiy\n",
      "Processing Record 586 of Set 12 | porto novo\n",
      "Processing Record 587 of Set 12 | olafsvik\n",
      "Processing Record 588 of Set 12 | buta\n",
      "Processing Record 589 of Set 12 | pitimbu\n",
      "Processing Record 590 of Set 12 | mangrul pir\n",
      "Processing Record 591 of Set 12 | port hardy\n",
      "Processing Record 592 of Set 12 | asau\n",
      "Processing Record 593 of Set 12 | tateyama\n",
      "Processing Record 594 of Set 12 | ylivieska\n",
      "Processing Record 595 of Set 12 | okhotsk\n",
      "Processing Record 596 of Set 12 | dzilam gonzalez\n",
      "Processing Record 597 of Set 12 | warrnambool\n",
      "Processing Record 598 of Set 12 | troitskoye\n",
      "Processing Record 599 of Set 12 | vaitape\n",
      "Processing Record 600 of Set 12 | andra\n",
      "Processing Record 601 of Set 13 | teguldet\n",
      "Processing Record 602 of Set 13 | ada\n",
      "Processing Record 603 of Set 13 | bontang\n",
      "Processing Record 604 of Set 13 | hofn\n",
      "Processing Record 605 of Set 13 | aguimes\n",
      "Processing Record 606 of Set 13 | dalbandin\n",
      "Processing Record 607 of Set 13 | feni\n",
      "Processing Record 608 of Set 13 | lavrentiya\n",
      "Processing Record 609 of Set 13 | tandalti\n",
      "Processing Record 610 of Set 13 | tautira\n",
      "Processing Record 611 of Set 13 | zyryanka\n",
      "Processing Record 612 of Set 13 | teya\n",
      "Processing Record 613 of Set 13 | ternate\n",
      "Processing Record 614 of Set 13 | ladario\n",
      "Processing Record 615 of Set 13 | kamaishi\n",
      "Processing Record 616 of Set 13 | sande\n",
      "Processing Record 617 of Set 13 | lennec\n",
      "Processing Record 618 of Set 13 | taoudenni\n",
      "Processing Record 619 of Set 13 | koutiala\n",
      "Processing Record 620 of Set 13 | slave lake\n",
      "Processing Record 621 of Set 13 | cuiluan\n",
      "Processing Record 622 of Set 13 | el dorado\n",
      "Processing Record 623 of Set 13 | bavleny\n",
      "Processing Record 624 of Set 13 | vuktyl\n",
      "Processing Record 625 of Set 13 | flin flon\n",
      "-----------------------------\n",
      "Data Retrieval Complete      \n",
      "-----------------------------\n"
     ]
    }
   ],
   "source": [
    "# Creating variables to use for the weather check\n",
    "city_data = []\n",
    "city_lat = []\n",
    "city_long = []\n",
    "city_max_temp = []\n",
    "city_humidity = []\n",
    "city_clouds = []\n",
    "city_wind = []\n",
    "city_country = []\n",
    "city_date = []\n",
    "\n",
    "\n",
    "# Information to print out\n",
    "print(\"Beginning Data Retrieval     \")\n",
    "print(\"-----------------------------\")\n",
    "\n",
    "# Creating and setting counters for printing:\n",
    "counter_record = 1\n",
    "counter_set = 1\n",
    "\n",
    "\n",
    "# Creating the loop\n",
    "for i, city in enumerate(cities):\n",
    "     # Create the endpoint query_url with each city:\n",
    "    city_url = query_url + city\n",
    "    \n",
    "    \n",
    "    #The counters are set to read the cities in groups of 50\n",
    "    if (i % 50 == 0 and i >= 50):\n",
    "        counter_set += 1\n",
    "        count_record = 0\n",
    "        \n",
    "      \n",
    "    # Printing records with set numbers and counters:\n",
    "    print(\"Processing Record %s of Set %s | %s\" % (counter_record, counter_set, city))\n",
    "\n",
    "    # Adding 1 to the record count for printing:\n",
    "    counter_record += 1\n",
    "\n",
    "    # Running the API request for each of the cities using and except to keep the code going\n",
    "    try:\n",
    "        \n",
    "        # Make request and store in json\n",
    "        response = requests.get(city_url).json()\n",
    "        \n",
    "        \n",
    "        city_data.append(response[\"name\"])\n",
    "        city_lat.append(response[\"coord\"][\"lat\"])\n",
    "        city_long.append(response[\"coord\"][\"lon\"])\n",
    "        city_max_temp.append(response[\"main\"][\"temp_max\"])\n",
    "        city_humidity.append(response[\"main\"][\"humidity\"])\n",
    "        city_clouds.append(response[\"clouds\"][\"all\"])\n",
    "        city_wind.append(response[\"wind\"][\"speed\"])\n",
    "        city_country.append(response[\"sys\"][\"country\"])\n",
    "        city_date.append(response[\"dt\"])\n",
    "      \n",
    "        \n",
    "    # Capturing an error and to skip the city:\n",
    "    except:\n",
    "       \n",
    "        print(\"City not found. Skipping...\")\n",
    "        pass \n",
    "    \n",
    "              \n",
    "# Printing out our data log \n",
    "print(\"-----------------------------\")\n",
    "print(\"Data Retrieval Complete      \")\n",
    "print(\"-----------------------------\")"
   ]
  },
  {
   "cell_type": "markdown",
   "metadata": {},
   "source": [
    "### Convert Raw Data to DataFrame\n",
    "* Export the city data into a .csv.\n",
    "* Display the DataFrame"
   ]
  },
  {
   "cell_type": "code",
   "execution_count": 30,
   "metadata": {},
   "outputs": [
    {
     "data": {
      "text/plain": [
       "City          570\n",
       "Lat           570\n",
       "Lng           570\n",
       "Max Temp      570\n",
       "Humidity      570\n",
       "Cloudiness    570\n",
       "Wind Speed    570\n",
       "Country       570\n",
       "Date          570\n",
       "dtype: int64"
      ]
     },
     "execution_count": 30,
     "metadata": {},
     "output_type": "execute_result"
    }
   ],
   "source": [
    "# Creating new dataframe for cities data:\n",
    "city_data_df ={\n",
    "    \"City\": city_data, \n",
    "    \"Lat\": city_lat, \n",
    "    \"Lng\": city_long, \n",
    "    \"Max Temp\": city_max_temp,\n",
    "    \"Humidity\": city_humidity,\n",
    "    \"Cloudiness\": city_clouds,\n",
    "    \"Wind Speed\": city_wind,\n",
    "    \"Country\": city_country,\n",
    "     \"Date\": city_date}\n",
    "\n",
    "weather_df = pd.DataFrame(city_data_df)\n",
    "weather_df.count()"
   ]
  },
  {
   "cell_type": "code",
   "execution_count": 31,
   "metadata": {},
   "outputs": [
    {
     "data": {
      "text/html": [
       "<div>\n",
       "<style scoped>\n",
       "    .dataframe tbody tr th:only-of-type {\n",
       "        vertical-align: middle;\n",
       "    }\n",
       "\n",
       "    .dataframe tbody tr th {\n",
       "        vertical-align: top;\n",
       "    }\n",
       "\n",
       "    .dataframe thead th {\n",
       "        text-align: right;\n",
       "    }\n",
       "</style>\n",
       "<table border=\"1\" class=\"dataframe\">\n",
       "  <thead>\n",
       "    <tr style=\"text-align: right;\">\n",
       "      <th></th>\n",
       "      <th>City</th>\n",
       "      <th>Lat</th>\n",
       "      <th>Lng</th>\n",
       "      <th>Max Temp</th>\n",
       "      <th>Humidity</th>\n",
       "      <th>Cloudiness</th>\n",
       "      <th>Wind Speed</th>\n",
       "      <th>Country</th>\n",
       "      <th>Date</th>\n",
       "    </tr>\n",
       "  </thead>\n",
       "  <tbody>\n",
       "    <tr>\n",
       "      <th>0</th>\n",
       "      <td>Cape Town</td>\n",
       "      <td>-33.9258</td>\n",
       "      <td>18.4232</td>\n",
       "      <td>70.12</td>\n",
       "      <td>85</td>\n",
       "      <td>52</td>\n",
       "      <td>1.01</td>\n",
       "      <td>ZA</td>\n",
       "      <td>1643757152</td>\n",
       "    </tr>\n",
       "    <tr>\n",
       "      <th>1</th>\n",
       "      <td>Guéret</td>\n",
       "      <td>46.1667</td>\n",
       "      <td>1.8667</td>\n",
       "      <td>41.63</td>\n",
       "      <td>99</td>\n",
       "      <td>100</td>\n",
       "      <td>5.66</td>\n",
       "      <td>FR</td>\n",
       "      <td>1643757156</td>\n",
       "    </tr>\n",
       "    <tr>\n",
       "      <th>2</th>\n",
       "      <td>Rikitea</td>\n",
       "      <td>-23.1203</td>\n",
       "      <td>-134.9692</td>\n",
       "      <td>78.44</td>\n",
       "      <td>69</td>\n",
       "      <td>87</td>\n",
       "      <td>5.66</td>\n",
       "      <td>PF</td>\n",
       "      <td>1643756999</td>\n",
       "    </tr>\n",
       "    <tr>\n",
       "      <th>3</th>\n",
       "      <td>Conceição do Araguaia</td>\n",
       "      <td>-8.2578</td>\n",
       "      <td>-49.2647</td>\n",
       "      <td>75.18</td>\n",
       "      <td>92</td>\n",
       "      <td>77</td>\n",
       "      <td>3.20</td>\n",
       "      <td>BR</td>\n",
       "      <td>1643757161</td>\n",
       "    </tr>\n",
       "    <tr>\n",
       "      <th>4</th>\n",
       "      <td>Bluff</td>\n",
       "      <td>-46.6000</td>\n",
       "      <td>168.3333</td>\n",
       "      <td>77.81</td>\n",
       "      <td>63</td>\n",
       "      <td>97</td>\n",
       "      <td>12.95</td>\n",
       "      <td>NZ</td>\n",
       "      <td>1643756991</td>\n",
       "    </tr>\n",
       "  </tbody>\n",
       "</table>\n",
       "</div>"
      ],
      "text/plain": [
       "                    City      Lat       Lng  Max Temp  Humidity  Cloudiness  \\\n",
       "0              Cape Town -33.9258   18.4232     70.12        85          52   \n",
       "1                 Guéret  46.1667    1.8667     41.63        99         100   \n",
       "2                Rikitea -23.1203 -134.9692     78.44        69          87   \n",
       "3  Conceição do Araguaia  -8.2578  -49.2647     75.18        92          77   \n",
       "4                  Bluff -46.6000  168.3333     77.81        63          97   \n",
       "\n",
       "   Wind Speed Country        Date  \n",
       "0        1.01      ZA  1643757152  \n",
       "1        5.66      FR  1643757156  \n",
       "2        5.66      PF  1643756999  \n",
       "3        3.20      BR  1643757161  \n",
       "4       12.95      NZ  1643756991  "
      ]
     },
     "execution_count": 31,
     "metadata": {},
     "output_type": "execute_result"
    }
   ],
   "source": [
    "#visualize data\n",
    "weather_df.head()"
   ]
  },
  {
   "cell_type": "code",
   "execution_count": 32,
   "metadata": {},
   "outputs": [
    {
     "data": {
      "text/html": [
       "<div>\n",
       "<style scoped>\n",
       "    .dataframe tbody tr th:only-of-type {\n",
       "        vertical-align: middle;\n",
       "    }\n",
       "\n",
       "    .dataframe tbody tr th {\n",
       "        vertical-align: top;\n",
       "    }\n",
       "\n",
       "    .dataframe thead th {\n",
       "        text-align: right;\n",
       "    }\n",
       "</style>\n",
       "<table border=\"1\" class=\"dataframe\">\n",
       "  <thead>\n",
       "    <tr style=\"text-align: right;\">\n",
       "      <th></th>\n",
       "      <th>Lat</th>\n",
       "      <th>Lng</th>\n",
       "      <th>Max Temp</th>\n",
       "      <th>Humidity</th>\n",
       "      <th>Cloudiness</th>\n",
       "      <th>Wind Speed</th>\n",
       "      <th>Date</th>\n",
       "    </tr>\n",
       "  </thead>\n",
       "  <tbody>\n",
       "    <tr>\n",
       "      <th>count</th>\n",
       "      <td>570.000000</td>\n",
       "      <td>570.000000</td>\n",
       "      <td>570.000000</td>\n",
       "      <td>570.000000</td>\n",
       "      <td>570.000000</td>\n",
       "      <td>570.000000</td>\n",
       "      <td>5.700000e+02</td>\n",
       "    </tr>\n",
       "    <tr>\n",
       "      <th>mean</th>\n",
       "      <td>20.481286</td>\n",
       "      <td>15.348175</td>\n",
       "      <td>48.967404</td>\n",
       "      <td>73.096491</td>\n",
       "      <td>57.968421</td>\n",
       "      <td>8.087281</td>\n",
       "      <td>1.643758e+09</td>\n",
       "    </tr>\n",
       "    <tr>\n",
       "      <th>std</th>\n",
       "      <td>33.944574</td>\n",
       "      <td>93.108513</td>\n",
       "      <td>31.399288</td>\n",
       "      <td>21.541381</td>\n",
       "      <td>40.269641</td>\n",
       "      <td>6.079174</td>\n",
       "      <td>5.126147e+02</td>\n",
       "    </tr>\n",
       "    <tr>\n",
       "      <th>min</th>\n",
       "      <td>-54.800000</td>\n",
       "      <td>-179.166700</td>\n",
       "      <td>-36.990000</td>\n",
       "      <td>9.000000</td>\n",
       "      <td>0.000000</td>\n",
       "      <td>0.000000</td>\n",
       "      <td>1.643756e+09</td>\n",
       "    </tr>\n",
       "    <tr>\n",
       "      <th>25%</th>\n",
       "      <td>-8.240850</td>\n",
       "      <td>-66.959300</td>\n",
       "      <td>25.435000</td>\n",
       "      <td>63.000000</td>\n",
       "      <td>13.000000</td>\n",
       "      <td>3.510000</td>\n",
       "      <td>1.643758e+09</td>\n",
       "    </tr>\n",
       "    <tr>\n",
       "      <th>50%</th>\n",
       "      <td>24.280050</td>\n",
       "      <td>17.755900</td>\n",
       "      <td>61.445000</td>\n",
       "      <td>77.000000</td>\n",
       "      <td>75.000000</td>\n",
       "      <td>6.565000</td>\n",
       "      <td>1.643758e+09</td>\n",
       "    </tr>\n",
       "    <tr>\n",
       "      <th>75%</th>\n",
       "      <td>49.366875</td>\n",
       "      <td>103.176700</td>\n",
       "      <td>75.142500</td>\n",
       "      <td>90.750000</td>\n",
       "      <td>99.750000</td>\n",
       "      <td>11.030000</td>\n",
       "      <td>1.643758e+09</td>\n",
       "    </tr>\n",
       "    <tr>\n",
       "      <th>max</th>\n",
       "      <td>78.218600</td>\n",
       "      <td>178.416700</td>\n",
       "      <td>92.660000</td>\n",
       "      <td>100.000000</td>\n",
       "      <td>100.000000</td>\n",
       "      <td>37.980000</td>\n",
       "      <td>1.643759e+09</td>\n",
       "    </tr>\n",
       "  </tbody>\n",
       "</table>\n",
       "</div>"
      ],
      "text/plain": [
       "              Lat         Lng    Max Temp    Humidity  Cloudiness  Wind Speed  \\\n",
       "count  570.000000  570.000000  570.000000  570.000000  570.000000  570.000000   \n",
       "mean    20.481286   15.348175   48.967404   73.096491   57.968421    8.087281   \n",
       "std     33.944574   93.108513   31.399288   21.541381   40.269641    6.079174   \n",
       "min    -54.800000 -179.166700  -36.990000    9.000000    0.000000    0.000000   \n",
       "25%     -8.240850  -66.959300   25.435000   63.000000   13.000000    3.510000   \n",
       "50%     24.280050   17.755900   61.445000   77.000000   75.000000    6.565000   \n",
       "75%     49.366875  103.176700   75.142500   90.750000   99.750000   11.030000   \n",
       "max     78.218600  178.416700   92.660000  100.000000  100.000000   37.980000   \n",
       "\n",
       "               Date  \n",
       "count  5.700000e+02  \n",
       "mean   1.643758e+09  \n",
       "std    5.126147e+02  \n",
       "min    1.643756e+09  \n",
       "25%    1.643758e+09  \n",
       "50%    1.643758e+09  \n",
       "75%    1.643758e+09  \n",
       "max    1.643759e+09  "
      ]
     },
     "execution_count": 32,
     "metadata": {},
     "output_type": "execute_result"
    }
   ],
   "source": [
    "# Exporting the city data to .csv file:\n",
    "\n",
    "weather_df.to_csv(\"../output_data/city_weather.csv\", index=False, header=True)\n",
    "weather_df.describe()"
   ]
  },
  {
   "cell_type": "markdown",
   "metadata": {},
   "source": [
    "## Inspect the data and remove the cities where the humidity > 100%.\n",
    "----\n",
    "Skip this step if there are no cities that have humidity > 100%. "
   ]
  },
  {
   "cell_type": "code",
   "execution_count": 33,
   "metadata": {},
   "outputs": [
    {
     "data": {
      "text/plain": [
       "19"
      ]
     },
     "execution_count": 33,
     "metadata": {},
     "output_type": "execute_result"
    }
   ],
   "source": [
    "# Checking if there are cities where the humidity > 100%: \n",
    "\n",
    "weather_df.loc[weather_df[\"Humidity\"] >= 100][\"Humidity\"].count()"
   ]
  },
  {
   "cell_type": "code",
   "execution_count": 34,
   "metadata": {},
   "outputs": [
    {
     "data": {
      "text/plain": [
       "Int64Index([], dtype='int64')"
      ]
     },
     "execution_count": 34,
     "metadata": {},
     "output_type": "execute_result"
    }
   ],
   "source": [
    "#  Get the indices of cities that have humidity over 100%.\n",
    "\n",
    "hum_100 = weather_df[weather_df.Humidity > 100].index\n",
    "hum_100"
   ]
  },
  {
   "cell_type": "code",
   "execution_count": 35,
   "metadata": {},
   "outputs": [
    {
     "data": {
      "text/html": [
       "<div>\n",
       "<style scoped>\n",
       "    .dataframe tbody tr th:only-of-type {\n",
       "        vertical-align: middle;\n",
       "    }\n",
       "\n",
       "    .dataframe tbody tr th {\n",
       "        vertical-align: top;\n",
       "    }\n",
       "\n",
       "    .dataframe thead th {\n",
       "        text-align: right;\n",
       "    }\n",
       "</style>\n",
       "<table border=\"1\" class=\"dataframe\">\n",
       "  <thead>\n",
       "    <tr style=\"text-align: right;\">\n",
       "      <th></th>\n",
       "      <th>City</th>\n",
       "      <th>Lat</th>\n",
       "      <th>Lng</th>\n",
       "      <th>Max Temp</th>\n",
       "      <th>Humidity</th>\n",
       "      <th>Cloudiness</th>\n",
       "      <th>Wind Speed</th>\n",
       "      <th>Country</th>\n",
       "      <th>Date</th>\n",
       "    </tr>\n",
       "  </thead>\n",
       "  <tbody>\n",
       "    <tr>\n",
       "      <th>0</th>\n",
       "      <td>Cape Town</td>\n",
       "      <td>-33.9258</td>\n",
       "      <td>18.4232</td>\n",
       "      <td>70.12</td>\n",
       "      <td>85</td>\n",
       "      <td>52</td>\n",
       "      <td>1.01</td>\n",
       "      <td>ZA</td>\n",
       "      <td>1643757152</td>\n",
       "    </tr>\n",
       "    <tr>\n",
       "      <th>1</th>\n",
       "      <td>Guéret</td>\n",
       "      <td>46.1667</td>\n",
       "      <td>1.8667</td>\n",
       "      <td>41.63</td>\n",
       "      <td>99</td>\n",
       "      <td>100</td>\n",
       "      <td>5.66</td>\n",
       "      <td>FR</td>\n",
       "      <td>1643757156</td>\n",
       "    </tr>\n",
       "    <tr>\n",
       "      <th>2</th>\n",
       "      <td>Rikitea</td>\n",
       "      <td>-23.1203</td>\n",
       "      <td>-134.9692</td>\n",
       "      <td>78.44</td>\n",
       "      <td>69</td>\n",
       "      <td>87</td>\n",
       "      <td>5.66</td>\n",
       "      <td>PF</td>\n",
       "      <td>1643756999</td>\n",
       "    </tr>\n",
       "    <tr>\n",
       "      <th>3</th>\n",
       "      <td>Conceição do Araguaia</td>\n",
       "      <td>-8.2578</td>\n",
       "      <td>-49.2647</td>\n",
       "      <td>75.18</td>\n",
       "      <td>92</td>\n",
       "      <td>77</td>\n",
       "      <td>3.20</td>\n",
       "      <td>BR</td>\n",
       "      <td>1643757161</td>\n",
       "    </tr>\n",
       "    <tr>\n",
       "      <th>4</th>\n",
       "      <td>Bluff</td>\n",
       "      <td>-46.6000</td>\n",
       "      <td>168.3333</td>\n",
       "      <td>77.81</td>\n",
       "      <td>63</td>\n",
       "      <td>97</td>\n",
       "      <td>12.95</td>\n",
       "      <td>NZ</td>\n",
       "      <td>1643756991</td>\n",
       "    </tr>\n",
       "  </tbody>\n",
       "</table>\n",
       "</div>"
      ],
      "text/plain": [
       "                    City      Lat       Lng  Max Temp  Humidity  Cloudiness  \\\n",
       "0              Cape Town -33.9258   18.4232     70.12        85          52   \n",
       "1                 Guéret  46.1667    1.8667     41.63        99         100   \n",
       "2                Rikitea -23.1203 -134.9692     78.44        69          87   \n",
       "3  Conceição do Araguaia  -8.2578  -49.2647     75.18        92          77   \n",
       "4                  Bluff -46.6000  168.3333     77.81        63          97   \n",
       "\n",
       "   Wind Speed Country        Date  \n",
       "0        1.01      ZA  1643757152  \n",
       "1        5.66      FR  1643757156  \n",
       "2        5.66      PF  1643756999  \n",
       "3        3.20      BR  1643757161  \n",
       "4       12.95      NZ  1643756991  "
      ]
     },
     "execution_count": 35,
     "metadata": {},
     "output_type": "execute_result"
    }
   ],
   "source": [
    "# Make a new DataFrame equal to the city data to drop all humidity outliers by index.\n",
    "# Passing \"inplace=False\" will make a copy of the city_data DataFrame, which we call \"clean_city_data\".\n",
    "\n",
    "clean_city_data = weather_df.loc[weather_df['Humidity'] < 100]  \n",
    "clean_city_data.head()"
   ]
  },
  {
   "cell_type": "code",
   "execution_count": 63,
   "metadata": {},
   "outputs": [],
   "source": [
    "\n",
    "# Export the clean_city_data into a csv:\n",
    "clean_city_data.to_csv(\"../output_data/clean_city_data.csv\", index=False, header=True)"
   ]
  },
  {
   "cell_type": "markdown",
   "metadata": {},
   "source": [
    "## Plotting the Data\n",
    "* Use proper labeling of the plots using plot titles (including date of analysis) and axes labels.\n",
    "* Save the plotted figures as .pngs."
   ]
  },
  {
   "cell_type": "markdown",
   "metadata": {},
   "source": [
    "## Latitude vs. Temperature Plot"
   ]
  },
  {
   "cell_type": "code",
   "execution_count": 38,
   "metadata": {
    "scrolled": true
   },
   "outputs": [
    {
     "data": {
      "image/png": "[encoded data removed]",
      "text/plain": [
       "<Figure size 432x288 with 1 Axes>"
      ]
     },
     "metadata": {
      "needs_background": "light"
     },
     "output_type": "display_data"
    },
    {
     "data": {
      "text/plain": [
       "<Figure size 432x288 with 0 Axes>"
      ]
     },
     "metadata": {},
     "output_type": "display_data"
    }
   ],
   "source": [
    "# Latitude vs Temperature Plot\n",
    "\n",
    "x_axis_data = clean_city_data .Lat\n",
    "y_axis_data = clean_city_data [\"Max Temp\"]\n",
    "plt.title(\"City Latitude vs Max Temperature (20/02/22)\")\n",
    "plt.xlabel(\"Latitude\")\n",
    "plt.ylabel(\"Max Temperature(F)\")\n",
    "plt.grid()\n",
    "\n",
    "plt.scatter(x_axis_data, y_axis_data, marker = \"o\", facecolor = \"steelblue\", edgecolors=\"black\")\n",
    "\n",
    "plt.show()\n",
    "plt.savefig(\"../Images/temperature.png\")\n"
   ]
  },
  {
   "cell_type": "markdown",
   "metadata": {},
   "source": [
    "## Latitude vs. Humidity Plot"
   ]
  },
  {
   "cell_type": "code",
   "execution_count": 40,
   "metadata": {},
   "outputs": [
    {
     "data": {
      "image/png": "[encoded data removed]",
      "text/plain": [
       "<Figure size 432x288 with 1 Axes>"
      ]
     },
     "metadata": {
      "needs_background": "light"
     },
     "output_type": "display_data"
    },
    {
     "data": {
      "text/plain": [
       "<Figure size 432x288 with 0 Axes>"
      ]
     },
     "metadata": {},
     "output_type": "display_data"
    }
   ],
   "source": [
    "# Latitude vs Humidity\n",
    "x_axis_data = clean_city_data .Lat\n",
    "y_axis_data = clean_city_data.Humidity\n",
    "plt.title(\"City Latitude vs Max Humidity (20/02/22)\")\n",
    "plt.xlabel(\"Latitude\")\n",
    "plt.ylabel(\"Humidity (%)\")\n",
    "plt.grid()\n",
    "\n",
    "plt.scatter(x_axis_data, y_axis_data, marker = \"o\", facecolor = \"steelblue\", edgecolors=\"black\")\n",
    "\n",
    "plt.show()\n",
    "plt.savefig(\"../Images/humidity.png\")\n"
   ]
  },
  {
   "cell_type": "markdown",
   "metadata": {},
   "source": [
    "## Latitude vs. Cloudiness Plot"
   ]
  },
  {
   "cell_type": "code",
   "execution_count": 41,
   "metadata": {},
   "outputs": [
    {
     "data": {
      "image/png": "[encoded data removed]",
      "text/plain": [
       "<Figure size 432x288 with 1 Axes>"
      ]
     },
     "metadata": {
      "needs_background": "light"
     },
     "output_type": "display_data"
    },
    {
     "data": {
      "text/plain": [
       "<Figure size 432x288 with 0 Axes>"
      ]
     },
     "metadata": {},
     "output_type": "display_data"
    }
   ],
   "source": [
    "# Latitude vs Cloudiness\n",
    "x_axis_data = clean_city_data .Lat\n",
    "y_axis_data = clean_city_data.Cloudiness\n",
    "plt.title(\"City Latitude vs Cloudiness (20/02/22)\")\n",
    "plt.xlabel(\"Latitude\")\n",
    "plt.ylabel(\"Cloudiness (%)\")\n",
    "plt.grid()\n",
    "\n",
    "plt.scatter(x_axis_data, y_axis_data, marker = \"o\", facecolor = \"steelblue\", edgecolors=\"black\")\n",
    "\n",
    "plt.show()\n",
    "plt.savefig(\"../Images/cloudiness.png\")\n"
   ]
  },
  {
   "cell_type": "markdown",
   "metadata": {},
   "source": [
    "## Latitude vs. Wind Speed Plot"
   ]
  },
  {
   "cell_type": "code",
   "execution_count": 42,
   "metadata": {},
   "outputs": [
    {
     "data": {
      "image/png": "[encoded data removed]",
      "text/plain": [
       "<Figure size 432x288 with 1 Axes>"
      ]
     },
     "metadata": {
      "needs_background": "light"
     },
     "output_type": "display_data"
    },
    {
     "data": {
      "text/plain": [
       "<Figure size 432x288 with 0 Axes>"
      ]
     },
     "metadata": {},
     "output_type": "display_data"
    }
   ],
   "source": [
    "# Latitude vs Wind Speed\n",
    "x_axis_data = clean_city_data .Lat\n",
    "y_axis_data = clean_city_data['Wind Speed']\n",
    "plt.title(\"City Latitude vs Wind Speed (20/02/22)\")\n",
    "plt.xlabel(\"Latitude\")\n",
    "plt.ylabel(\"Wind Speed (mph) (%)\")\n",
    "plt.grid()\n",
    "\n",
    "plt.scatter(x_axis_data, y_axis_data, marker = \"o\", facecolor = \"steelblue\", edgecolors=\"black\")\n",
    "\n",
    "plt.show()\n",
    "plt.savefig(\"../Images/windspeed.png\")\n"
   ]
  },
  {
   "cell_type": "markdown",
   "metadata": {},
   "source": [
    "## Linear Regression"
   ]
  },
  {
   "cell_type": "code",
   "execution_count": 43,
   "metadata": {},
   "outputs": [],
   "source": [
    "#Dividing the data between Northern and Southern Hemispheres\n",
    "north_hem = clean_city_data.loc[clean_city_data[\"Lat\"] >= 0]\n",
    "south_hem = clean_city_data.loc[clean_city_data[\"Lat\"] < 0]"
   ]
  },
  {
   "cell_type": "markdown",
   "metadata": {},
   "source": [
    "####  Northern Hemisphere - Max Temp vs. Latitude Linear Regression"
   ]
  },
  {
   "cell_type": "code",
   "execution_count": 64,
   "metadata": {
    "scrolled": true
   },
   "outputs": [
    {
     "name": "stdout",
     "output_type": "stream",
     "text": [
      "The r-value is: 0.7475868740968423\n"
     ]
    },
    {
     "data": {
      "image/png": "[encoded data removed]",
      "text/plain": [
       "<Figure size 432x288 with 1 Axes>"
      ]
     },
     "metadata": {
      "needs_background": "light"
     },
     "output_type": "display_data"
    }
   ],
   "source": [
    "#Northern Hemisphere - Max Temp vs. Latitude Linear Regression\n",
    "x_axis_data = north_hem.Lat\n",
    "y_axis_data = north_hem['Max Temp']\n",
    "(slope, intercept, rvalue, pvalue, stderr) = linregress(x_axis_data, y_axis_data)\n",
    "regress_values = x_axis_data * slope + intercept\n",
    "line_eq = \"y = \" + str(round(slope,2)) + \"x + \" + str(round(intercept,2))\n",
    "plt.scatter(x_axis_data,y_axis_data)\n",
    "plt.plot(x_axis_data,regress_values,\"r-\")\n",
    "plt.annotate(line_eq,(6,10),fontsize=15,color=\"red\")\n",
    "plt.xlabel('Latitude')\n",
    "plt.ylabel('Max Temp')\n",
    "print(f\"The r-value is: {rvalue**2}\")\n",
    "plt.show()"
   ]
  },
  {
   "cell_type": "markdown",
   "metadata": {},
   "source": [
    "####  Southern Hemisphere - Max Temp vs. Latitude Linear Regression"
   ]
  },
  {
   "cell_type": "code",
   "execution_count": 66,
   "metadata": {},
   "outputs": [
    {
     "name": "stdout",
     "output_type": "stream",
     "text": [
      "The r-value is: 0.2043448379449757\n"
     ]
    },
    {
     "data": {
      "image/png": "[encoded data removed]",
      "text/plain": [
       "<Figure size 432x288 with 1 Axes>"
      ]
     },
     "metadata": {
      "needs_background": "light"
     },
     "output_type": "display_data"
    }
   ],
   "source": [
    "# Southern Hemisphere - Max Temp vs. Latitude Linear Regression\n",
    "x_axis_data = south_hem.Lat\n",
    "y_axis_data = south_hem['Max Temp']\n",
    "(slope, intercept, rvalue, pvalue, stderr) = linregress(x_axis_data, y_axis_data)\n",
    "regress_values = x_axis_data * slope + intercept\n",
    "line_eq = \"y = \" + str(round(slope,2)) + \"x + \" + str(round(intercept,2))\n",
    "plt.scatter(x_axis_data,y_axis_data)\n",
    "plt.plot(x_axis_data,regress_values,\"r-\")\n",
    "plt.annotate(line_eq,(6,10),fontsize=15,color=\"red\")\n",
    "plt.xlabel('Latitude')\n",
    "plt.ylabel('Max Temp')\n",
    "print(f\"The r-value is: {rvalue**2}\")\n",
    "plt.show()"
   ]
  },
  {
   "cell_type": "markdown",
   "metadata": {},
   "source": [
    "####  Northern Hemisphere - Humidity (%) vs. Latitude Linear Regression"
   ]
  },
  {
   "cell_type": "code",
   "execution_count": 68,
   "metadata": {},
   "outputs": [
    {
     "name": "stdout",
     "output_type": "stream",
     "text": [
      "The r-svalue is: 0.14700333468508023\n"
     ]
    },
    {
     "data": {
      "image/png": "[encoded data removed]",
      "text/plain": [
       "<Figure size 432x288 with 1 Axes>"
      ]
     },
     "metadata": {
      "needs_background": "light"
     },
     "output_type": "display_data"
    }
   ],
   "source": [
    "# Northern Hemisphere - Humidity (%) vs. Latitude Linear Regression\n",
    "x_axis_data = north_hem.Lat\n",
    "y_axis_data = north_hem.Humidity\n",
    "(slope, intercept, rvalue, pvalue, stderr) = linregress(x_axis_data, y_axis_data)\n",
    "regress_values = x_axis_data * slope + intercept\n",
    "line_eq = \"y = \" + str(round(slope,2)) + \"x + \" + str(round(intercept,2))\n",
    "plt.scatter(x_axis_data,y_axis_data)\n",
    "plt.plot(x_axis_data,regress_values,\"r-\")\n",
    "plt.annotate(line_eq,(6,10),fontsize=15,color=\"red\")\n",
    "plt.xlabel('Latitude')\n",
    "plt.ylabel('Humditiy (%)')\n",
    "print(f\"The r-svalue is: {rvalue**2}\")\n",
    "plt.show()"
   ]
  },
  {
   "cell_type": "markdown",
   "metadata": {},
   "source": [
    "####  Southern Hemisphere - Humidity (%) vs. Latitude Linear Regression"
   ]
  },
  {
   "cell_type": "code",
   "execution_count": 69,
   "metadata": {},
   "outputs": [
    {
     "name": "stdout",
     "output_type": "stream",
     "text": [
      "The r-svalue is: 0.2569427497126604\n"
     ]
    },
    {
     "data": {
      "image/png": "[encoded data removed]",
      "text/plain": [
       "<Figure size 432x288 with 1 Axes>"
      ]
     },
     "metadata": {
      "needs_background": "light"
     },
     "output_type": "display_data"
    }
   ],
   "source": [
    "# Southern Hemisphere - Humidity (%) vs. Latitude Linear Regression\n",
    "x_axis_data = south_hem.Lat\n",
    "y_axis_data = south_hem.Humidity\n",
    "(slope, intercept, rvalue, pvalue, stderr) = linregress(x_axis_data, y_axis_data)\n",
    "regress_values = x_axis_data * slope + intercept\n",
    "line_eq = \"y = \" + str(round(slope,2)) + \"x + \" + str(round(intercept,2))\n",
    "plt.scatter(x_axis_data,y_axis_data)\n",
    "plt.plot(x_axis_data,regress_values,\"r-\")\n",
    "plt.annotate(line_eq,(6,10),fontsize=15,color=\"red\")\n",
    "plt.xlabel('Latitude')\n",
    "plt.ylabel('Humditiy (%)')\n",
    "print(f\"The r-svalue is: {rvalue**2}\")\n",
    "plt.show()"
   ]
  },
  {
   "cell_type": "markdown",
   "metadata": {},
   "source": [
    "####  Northern Hemisphere - Cloudiness (%) vs. Latitude Linear Regression"
   ]
  },
  {
   "cell_type": "code",
   "execution_count": 70,
   "metadata": {},
   "outputs": [
    {
     "name": "stdout",
     "output_type": "stream",
     "text": [
      "The r-svalue is: 0.07326303204906578\n"
     ]
    },
    {
     "data": {
      "image/png": "[encoded data removed]",
      "text/plain": [
       "<Figure size 432x288 with 1 Axes>"
      ]
     },
     "metadata": {
      "needs_background": "light"
     },
     "output_type": "display_data"
    }
   ],
   "source": [
    "# Northern Hemisphere - Cloudiness (%) vs. Latitude Linear Regression\n",
    "x_axis_data = north_hem.Lat\n",
    "y_axis_data = north_hem.Cloudiness\n",
    "(slope, intercept, rvalue, pvalue, stderr) = linregress(x_axis_data, y_axis_data)\n",
    "regress_values = x_axis_data * slope + intercept\n",
    "line_eq = \"y = \" + str(round(slope,2)) + \"x + \" + str(round(intercept,2))\n",
    "plt.scatter(x_axis_data,y_axis_data)\n",
    "plt.plot(x_axis_data,regress_values,\"r-\")\n",
    "plt.annotate(line_eq,(6,10),fontsize=15,color=\"red\")\n",
    "plt.xlabel('Latitude')\n",
    "plt.ylabel('Coudiness (%)')\n",
    "print(f\"The r-svalue is: {rvalue**2}\")\n",
    "plt.show()"
   ]
  },
  {
   "cell_type": "markdown",
   "metadata": {},
   "source": [
    "####  Southern Hemisphere - Cloudiness (%) vs. Latitude Linear Regression"
   ]
  },
  {
   "cell_type": "code",
   "execution_count": 71,
   "metadata": {},
   "outputs": [
    {
     "name": "stdout",
     "output_type": "stream",
     "text": [
      "The r-svalue is: 0.0633683357703842\n"
     ]
    },
    {
     "data": {
      "image/png": "[encoded data removed]",
      "text/plain": [
       "<Figure size 432x288 with 1 Axes>"
      ]
     },
     "metadata": {
      "needs_background": "light"
     },
     "output_type": "display_data"
    }
   ],
   "source": [
    "# ASouthern Hemisphere - Cloudiness (%) vs. Latitude Linear Regression\n",
    "x_axis_data = south_hem.Lat\n",
    "y_axis_data = south_hem.Cloudiness\n",
    "(slope, intercept, rvalue, pvalue, stderr) = linregress(x_axis_data, y_axis_data)\n",
    "regress_values = x_axis_data * slope + intercept\n",
    "line_eq = \"y = \" + str(round(slope,2)) + \"x + \" + str(round(intercept,2))\n",
    "plt.scatter(x_axis_data,y_axis_data)\n",
    "plt.plot(x_axis_data,regress_values,\"r-\")\n",
    "plt.annotate(line_eq,(6,10),fontsize=15,color=\"red\")\n",
    "plt.xlabel('Latitude')\n",
    "plt.ylabel('Coudiness (%)')\n",
    "print(f\"The r-svalue is: {rvalue**2}\")\n",
    "plt.show()"
   ]
  },
  {
   "cell_type": "markdown",
   "metadata": {},
   "source": [
    "####  Northern Hemisphere - Wind Speed (mph) vs. Latitude Linear Regression"
   ]
  },
  {
   "cell_type": "code",
   "execution_count": 72,
   "metadata": {},
   "outputs": [
    {
     "name": "stdout",
     "output_type": "stream",
     "text": [
      "The r-svalue is: 0.01032119723172248\n"
     ]
    },
    {
     "data": {
      "image/png": "[encoded data removed]",
      "text/plain": [
       "<Figure size 432x288 with 1 Axes>"
      ]
     },
     "metadata": {
      "needs_background": "light"
     },
     "output_type": "display_data"
    }
   ],
   "source": [
    "# Northern Hemisphere - Wind Speed (mph) vs. Latitude Linear Regression\n",
    "x_axis_data = north_hem.Lat\n",
    "y_axis_data = north_hem['Wind Speed']\n",
    "(slope, intercept, rvalue, pvalue, stderr) = linregress(x_axis_data, y_axis_data)\n",
    "regress_values = x_axis_data * slope + intercept\n",
    "line_eq = \"y = \" + str(round(slope,2)) + \"x + \" + str(round(intercept,2))\n",
    "plt.scatter(x_axis_data,y_axis_data)\n",
    "plt.plot(x_axis_data,regress_values,\"r-\")\n",
    "plt.annotate(line_eq,(6,10),fontsize=15,color=\"red\")\n",
    "plt.xlabel('Latitude')\n",
    "plt.ylabel('Wind Speed (%)')\n",
    "print(f\"The r-svalue is: {rvalue**2}\")\n",
    "plt.show()"
   ]
  },
  {
   "cell_type": "markdown",
   "metadata": {},
   "source": [
    "####  Southern Hemisphere - Wind Speed (mph) vs. Latitude Linear Regression"
   ]
  },
  {
   "cell_type": "code",
   "execution_count": 73,
   "metadata": {},
   "outputs": [
    {
     "name": "stdout",
     "output_type": "stream",
     "text": [
      "The r-svalue is: 0.09940460438582717\n"
     ]
    },
    {
     "data": {
      "image/png": "[encoded data removed]",
      "text/plain": [
       "<Figure size 432x288 with 1 Axes>"
      ]
     },
     "metadata": {
      "needs_background": "light"
     },
     "output_type": "display_data"
    }
   ],
   "source": [
    "# Add the linear regression equation and line to plot\n",
    "x_axis_data = south_hem.Lat\n",
    "y_axis_data = south_hem['Wind Speed']\n",
    "(slope, intercept, rvalue, pvalue, stderr) = linregress(x_axis_data, y_axis_data)\n",
    "regress_values = x_axis_data * slope + intercept\n",
    "line_eq = \"y = \" + str(round(slope,2)) + \"x + \" + str(round(intercept,2))\n",
    "plt.scatter(x_axis_data,y_axis_data)\n",
    "plt.plot(x_axis_data,regress_values,\"r-\")\n",
    "plt.annotate(line_eq,(6,10),fontsize=15,color=\"red\")\n",
    "plt.xlabel('Latitude')\n",
    "plt.ylabel('Wind Speed (%)')\n",
    "print(f\"The r-svalue is: {rvalue**2}\")\n",
    "plt.show()"
   ]
  },
  {
   "cell_type": "code",
   "execution_count": null,
   "metadata": {},
   "outputs": [],
   "source": []
  }
 ],
 "metadata": {
  "anaconda-cloud": {},
  "kernel_info": {
   "name": "python3"
  },
  "kernelspec": {
   "display_name": "Python 3 (ipykernel)",
   "language": "python",
   "name": "python3"
  },
  "language_info": {
   "codemirror_mode": {
    "name": "ipython",
    "version": 3
   },
   "file_extension": ".py",
   "mimetype": "text/x-python",
   "name": "python",
   "nbconvert_exporter": "python",
   "pygments_lexer": "ipython3",
   "version": "3.9.7"
  },
  "latex_envs": {
   "LaTeX_envs_menu_present": true,
   "autoclose": false,
   "autocomplete": true,
   "bibliofile": "biblio.bib",
   "cite_by": "apalike",
   "current_citInitial": 1,
   "eqLabelWithNumbers": true,
   "eqNumInitial": 1,
   "hotkeys": {
    "equation": "Ctrl-E",
    "itemize": "Ctrl-I"
   },
   "labels_anchors": false,
   "latex_user_defs": false,
   "report_style_numbering": false,
   "user_envs_cfg": false
  },
  "nteract": {
   "version": "0.12.3"
  }
 },
 "nbformat": 4,
 "nbformat_minor": 2
}
